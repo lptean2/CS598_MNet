{
 "cells": [
  {
   "cell_type": "code",
   "execution_count": 1,
   "id": "887a3a3a-b5f6-437c-b233-6453eb56aed0",
   "metadata": {},
   "outputs": [
    {
     "name": "stdout",
     "output_type": "stream",
     "text": [
      "Collecting nibabel\n",
      "  Downloading nibabel-5.1.0-py3-none-any.whl (3.3 MB)\n",
      "\u001b[2K     \u001b[90m━━━━━━━━━━━━━━━━━━━━━━━━━━━━━━━━━━━━━━━━\u001b[0m \u001b[32m3.3/3.3 MB\u001b[0m \u001b[31m67.4 MB/s\u001b[0m eta \u001b[36m0:00:00\u001b[0m:00:01\u001b[0m\n",
      "\u001b[?25hRequirement already satisfied: packaging>=17 in /usr/local/lib/python3.9/dist-packages (from nibabel) (23.0)\n",
      "Requirement already satisfied: numpy>=1.19 in /usr/local/lib/python3.9/dist-packages (from nibabel) (1.23.4)\n",
      "Installing collected packages: nibabel\n",
      "Successfully installed nibabel-5.1.0\n",
      "\u001b[33mWARNING: Running pip as the 'root' user can result in broken permissions and conflicting behaviour with the system package manager. It is recommended to use a virtual environment instead: https://pip.pypa.io/warnings/venv\u001b[0m\u001b[33m\n",
      "\u001b[0m"
     ]
    }
   ],
   "source": [
    "!pip install nibabel"
   ]
  },
  {
   "cell_type": "code",
   "execution_count": 2,
   "id": "83396b31-87f2-4b8c-948a-eff3e38588b6",
   "metadata": {},
   "outputs": [],
   "source": [
    "import numpy as np\n",
    "import nibabel as nib\n",
    "import glob\n",
    "import os\n",
    "from tensorflow.keras.utils import to_categorical\n",
    "import matplotlib.pyplot as plt\n",
    "from tifffile import imsave\n",
    "\n",
    "from sklearn.preprocessing import MinMaxScaler\n",
    "scaler = MinMaxScaler()"
   ]
  },
  {
   "cell_type": "code",
   "execution_count": 3,
   "id": "cb70fc28-79bf-49ea-86cd-991f35b60dda",
   "metadata": {},
   "outputs": [
    {
     "name": "stdout",
     "output_type": "stream",
     "text": [
      "Brats_dataloader.ipynb\tMNet.ipynb  quick_start_pytorch.ipynb\n",
      "Data\t\t\tREADME.md   quick_start_pytorch_images\n",
      "Kits_dataloader.ipynb\tmain.ipynb\n"
     ]
    }
   ],
   "source": [
    "!dir"
   ]
  },
  {
   "cell_type": "code",
   "execution_count": 4,
   "id": "2a331ea8-c7a3-4262-aefe-9042b7dc253e",
   "metadata": {},
   "outputs": [],
   "source": [
    "TRAIN_DATASET_PATH = \"./Data/brats20\"\n",
    "VALIDATION_DATASET_PATH = \"./Data/brats20\""
   ]
  },
  {
   "cell_type": "code",
   "execution_count": 5,
   "id": "4c40896d-9db6-4253-ac4d-fc3cbbdc8829",
   "metadata": {},
   "outputs": [
    {
     "name": "stdout",
     "output_type": "stream",
     "text": [
      "625.0\n",
      "(240, 240, 155)\n",
      "<class 'numpy.memmap'>\n"
     ]
    }
   ],
   "source": [
    "test_image_flair=nib.load(TRAIN_DATASET_PATH+\"/BraTS20_Training_001/BraTS20_Training_001_flair.nii\").get_fdata()\n",
    "print(test_image_flair.max())\n",
    "print(test_image_flair.shape)\n",
    "print(type(test_image_flair))"
   ]
  },
  {
   "cell_type": "code",
   "execution_count": 6,
   "id": "9ebf95e6-0bd6-4063-8499-feaa5614cc1a",
   "metadata": {},
   "outputs": [
    {
     "name": "stdout",
     "output_type": "stream",
     "text": [
      "4.0\n",
      "(240, 240, 155)\n",
      "<class 'numpy.memmap'>\n"
     ]
    }
   ],
   "source": [
    "test_image_seg=nib.load(TRAIN_DATASET_PATH+\"/BraTS20_Training_001/BraTS20_Training_001_seg.nii\").get_fdata()\n",
    "print(test_image_seg.max())\n",
    "print(test_image_seg.shape)\n",
    "print(type(test_image_seg))"
   ]
  },
  {
   "cell_type": "code",
   "execution_count": 7,
   "id": "fa246238-2312-4b81-aa87-3451bf86b83b",
   "metadata": {},
   "outputs": [
    {
     "name": "stdout",
     "output_type": "stream",
     "text": [
      "678.0\n",
      "(240, 240, 155)\n",
      "<class 'numpy.memmap'>\n"
     ]
    }
   ],
   "source": [
    "test_image_t1=nib.load(TRAIN_DATASET_PATH+\"/BraTS20_Training_001/BraTS20_Training_001_t1.nii\").get_fdata()\n",
    "print(test_image_t1.max())\n",
    "print(test_image_t1.shape)\n",
    "print(type(test_image_t1))"
   ]
  },
  {
   "cell_type": "code",
   "execution_count": 30,
   "id": "a86fcbdf-1c7a-4a05-9e96-3ac67556cc63",
   "metadata": {},
   "outputs": [
    {
     "name": "stdout",
     "output_type": "stream",
     "text": [
      "385.0\n",
      "(240, 240, 155)\n",
      "<class 'numpy.memmap'>\n"
     ]
    }
   ],
   "source": [
    "test_image_t2=nib.load(TRAIN_DATASET_PATH+\"/BraTS20_Training_003/BraTS20_Training_003_t2.nii\").get_fdata()\n",
    "print(test_image_t2.max())\n",
    "print(test_image_t2.shape)\n",
    "print(type(test_image_t2))"
   ]
  },
  {
   "cell_type": "code",
   "execution_count": 9,
   "id": "4b325db2-a423-4dd2-bdcb-6158d40dede3",
   "metadata": {},
   "outputs": [
    {
     "name": "stdout",
     "output_type": "stream",
     "text": [
      "1845.0\n",
      "(240, 240, 155)\n",
      "<class 'numpy.memmap'>\n"
     ]
    }
   ],
   "source": [
    "test_image_t1ce=nib.load(TRAIN_DATASET_PATH+\"/BraTS20_Training_001/BraTS20_Training_001_t1ce.nii\").get_fdata()\n",
    "print(test_image_t1ce.max())\n",
    "print(test_image_t1ce.shape)\n",
    "print(type(test_image_t1ce))"
   ]
  },
  {
   "cell_type": "code",
   "execution_count": 10,
   "id": "1e58f54f-1218-45a2-b431-5cb81d45fad1",
   "metadata": {},
   "outputs": [
    {
     "name": "stdout",
     "output_type": "stream",
     "text": [
      "(240, 240, 155)\n",
      "155\n",
      "240\n",
      "240\n"
     ]
    }
   ],
   "source": [
    "print(test_image_t1.shape)\n",
    "print(test_image_t1.shape[-1])\n",
    "print(test_image_t1.shape[-2])\n",
    "print(test_image_t1.shape[-3])"
   ]
  },
  {
   "cell_type": "code",
   "execution_count": 11,
   "id": "fb114f77-c74a-4c80-8398-7f51a7d7b09d",
   "metadata": {},
   "outputs": [
    {
     "data": {
      "text/plain": [
       "(57600, 155)"
      ]
     },
     "execution_count": 11,
     "metadata": {},
     "output_type": "execute_result"
    }
   ],
   "source": [
    "test_image_t1.reshape(-1,test_image_t1.shape[-1]).shape"
   ]
  },
  {
   "cell_type": "code",
   "execution_count": 12,
   "id": "5124637a-b37d-41bf-8270-895492c8fc5c",
   "metadata": {},
   "outputs": [
    {
     "data": {
      "text/plain": [
       "(240, 240, 155)"
      ]
     },
     "execution_count": 12,
     "metadata": {},
     "output_type": "execute_result"
    }
   ],
   "source": [
    "test_image_t1.reshape(-1,test_image_t1.shape[-1]).reshape(test_image_t1.shape).shape"
   ]
  },
  {
   "cell_type": "code",
   "execution_count": 15,
   "id": "8b68894d-1582-4577-8245-3cd08e9fcbba",
   "metadata": {},
   "outputs": [
    {
     "name": "stdout",
     "output_type": "stream",
     "text": [
      "[4. 4. 4. ... 4. 4. 4.]\n"
     ]
    }
   ],
   "source": [
    "print(test_image_seg[test_image_seg==4])"
   ]
  },
  {
   "cell_type": "code",
   "execution_count": 6,
   "id": "e45325f3-6e25-4382-92b7-87d966a86166",
   "metadata": {},
   "outputs": [],
   "source": [
    "t2_list = sorted(glob.glob(TRAIN_DATASET_PATH+'/*/*t2.nii'))\n",
    "t1ce_list = sorted(glob.glob(TRAIN_DATASET_PATH+'/*/*t1ce.nii'))\n",
    "flair_list = sorted(glob.glob(TRAIN_DATASET_PATH+'/*/*flair.nii'))\n",
    "mask_list = sorted(glob.glob(TRAIN_DATASET_PATH+'/*/*[se][eg][gm].nii')) # handling the 355th file also"
   ]
  },
  {
   "cell_type": "code",
   "execution_count": 18,
   "id": "62a8e49d-f8c0-4d76-8d4a-51d28dbb9885",
   "metadata": {},
   "outputs": [
    {
     "name": "stdout",
     "output_type": "stream",
     "text": [
      "40\n",
      "./Data/brats20/BraTS20_Training_001/BraTS20_Training_001_t2.nii\n"
     ]
    }
   ],
   "source": [
    "print(len(t2_list))\n",
    "print(t2_list[0]) "
   ]
  },
  {
   "cell_type": "code",
   "execution_count": 18,
   "id": "0fed3963-847e-4699-9fbf-977fcd899bb4",
   "metadata": {},
   "outputs": [
    {
     "name": "stdout",
     "output_type": "stream",
     "text": [
      "./Data/brats20/BraTS20_Training_011/BraTS20_Training_011_t2.nii\n",
      "./Data/brats20/BraTS20_Training_012/BraTS20_Training_012_t2.nii\n",
      "./Data/brats20/BraTS20_Training_013/BraTS20_Training_013_t2.nii\n",
      "./Data/brats20/BraTS20_Training_014/BraTS20_Training_014_t2.nii\n",
      "./Data/brats20/BraTS20_Training_015/BraTS20_Training_015_t2.nii\n"
     ]
    }
   ],
   "source": [
    "from torch.utils.data import Dataset\n",
    "\n",
    "class BratsDataset(Dataset):\n",
    "    def __init__(self,t2s,t1s,flairs,masks):\n",
    "        self.t2 = t2s\n",
    "        self.t1 = t1s\n",
    "        self.flair = flairs\n",
    "        self.mask = masks\n",
    "    \n",
    "    def __len__(self):\n",
    "        return len(self.t2)\n",
    "    \n",
    "    def __getitem__(self,index):\n",
    "        return self.t2[index],self.t1[index],self.flair[index],self.mask[index]\n",
    "    \n",
    "t2_img_list = []\n",
    "t1_img_list = []\n",
    "flair_img_list = []\n",
    "mask_img_list = []\n",
    "\n",
    "for i in range(10,15):#range(len(t2_list)):\n",
    "    print(t2_list[i])\n",
    "    temp_t2 = nib.load(t2_list[i]).get_fdata()\n",
    "    temp_t2 = scaler.fit_transform(temp_t2.reshape(-1,temp_t2.shape[-1])).reshape(temp_t2.shape)\n",
    "    \n",
    "    temp_t1=nib.load(t1ce_list[i]).get_fdata()\n",
    "    temp_t1=scaler.fit_transform(temp_t1.reshape(-1, temp_t1.shape[-1])).reshape(temp_t1.shape)\n",
    "   \n",
    "    temp_flair=nib.load(flair_list[i]).get_fdata()\n",
    "    temp_flair=scaler.fit_transform(temp_flair.reshape(-1, temp_flair.shape[-1])).reshape(temp_flair.shape)\n",
    "        \n",
    "    temp_mask=nib.load(mask_list[i]).get_fdata()\n",
    "    temp_mask=temp_mask.astype(np.uint8)\n",
    "    temp_mask[temp_mask==4] = 3 \n",
    "    \n",
    "    t2_img_list.append(temp_t2)\n",
    "    t1_img_list.append(temp_t1)\n",
    "    flair_img_list.append(temp_flair)\n",
    "    mask_img_list.append(temp_mask)\n",
    "    \n",
    "brats_dataset = BratsDataset(t2_img_list,t1_img_list,flair_img_list,mask_img_list)"
   ]
  }
 ],
 "metadata": {
  "kernelspec": {
   "display_name": "Python 3 (ipykernel)",
   "language": "python",
   "name": "python3"
  },
  "language_info": {
   "codemirror_mode": {
    "name": "ipython",
    "version": 3
   },
   "file_extension": ".py",
   "mimetype": "text/x-python",
   "name": "python",
   "nbconvert_exporter": "python",
   "pygments_lexer": "ipython3",
   "version": "3.9.16"
  }
 },
 "nbformat": 4,
 "nbformat_minor": 5
}
